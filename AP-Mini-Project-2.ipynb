{
 "cells": [
  {
   "cell_type": "markdown",
   "metadata": {},
   "source": [
    "# Mini-Project 2: Shipping Logistics Operations & Management\n",
    "\n",
    "## Objective\n",
    "In this mini-project, you'll build upon the entity classes designed in Mini-Project 1. You'll implement advanced logic for managing these entities, focusing on: \n",
    "* **Data Persistence (Simplified)**: Storing and retrieving entity data.\n",
    "* **CRUD Operations**: Creating, Reading, Updating, and Deleting entities.\n",
    "* **Search and Filter**: Efficiently finding specific entities based on criteria.\n",
    "* **Logistics Simulation (Basic)**: Simulating movement and package assignment.\n",
    "* **Error Handling**: Robustly handling invalid operations and edge cases.\n",
    "\n",
    "## Core Concepts to Apply\n",
    "* **Data Structures**: Using lists, dictionaries, or sets for efficient storage and retrieval.\n",
    "* **Encapsulation**: Further refining class methods to manage internal state.\n",
    "* **Polymorphism**: Utilizing the common interfaces of your base classes where appropriate.\n",
    "* **Error Handling**: Implementing `try-except` blocks and custom exceptions.\n",
    "* **Algorithmic Thinking**: Designing efficient search and management logic.\n",
    "\n",
    "---\n"
   ]
  },
  {
   "cell_type": "markdown",
   "metadata": {},
   "source": [
    "## Part 1: Setting up the Environment\n",
    "\n",
    "Before we start, we need to bring in the classes you defined in Mini-Project 1. Copy and paste all your completed class definitions (`City`, `Package` and its subclasses, `Container` and its subclasses, `Truck` and its subclasses) into the cell below. This ensures all your entities are available for the new operations you'll be implementing."
   ]
  },
  {
   "cell_type": "code",
   "execution_count": null,
   "metadata": {},
   "outputs": [],
   "source": [
    "# --- PASTE ALL YOUR CLASS DEFINITIONS FROM MINI-PROJECT 1 HERE ---\n"
   ]
  },
  {
   "cell_type": "markdown",
   "metadata": {},
   "source": [
    "## Part 2: Logistics Manager Class\n",
    "\n",
    "To centralize our operations and manage collections of our logistics entities, we will create a `LogisticsManager` class. This class will act as the brain of our system, handling all CRUD operations, search functionalities, and basic logistics logic.\n"
   ]
  },
  {
   "cell_type": "markdown",
   "metadata": {},
   "source": [
    "### 1. `LogisticsManager` Class\n",
    "\n",
    "* **Description**: Manages all `City`, `Package`, `Container`, and `Truck` objects in the system. It should maintain collections of these objects.\n",
    "* **Mandatory Attributes**:\n",
    "    * **`cities`** (dictionary): Stores `City` objects, keyed by their `id`.\n",
    "    * **`packages`** (dictionary): Stores `Package` objects, keyed by their `id`.\n",
    "    * **`containers`** (dictionary): Stores `Container` objects, keyed by their `id`.\n",
    "    * **`trucks`** (dictionary): Stores `Truck` objects, keyed by their `id`.\n",
    "* **Mandatory Methods**:\n",
    "    * **`__init__`** (constructor): Initializes all internal dictionaries.\n",
    "    * **`add_city(city)`**: Adds a `City` object to the `cities` dictionary. Ensure the ID is unique. Return `True` on success, `False` if ID already exists.\n",
    "    * **`get_city(city_id)`**: Retrieves a `City` object by its ID. Return the `City` object or `None` if not found.\n",
    "    * **`update_city(city_id, new_name=None, new_details=None)`**: Updates a city's name or details. Return `True` on success, `False` if city not found.\n",
    "    * **`delete_city(city_id)`**: Removes a `City` object. **Important**: Before deleting a city, ensure no packages currently reference it as an origin or destination. If so, prevent deletion and return `False`. Return `True` on successful deletion, `False` otherwise.\n",
    "\n",
    "    * **`add_package(package)`**: Adds a `Package` object to the `packages` dictionary. Ensure the ID is unique and that its origin and destination cities exist in the manager's `cities` collection. Return `True` on success, `False` otherwise.\n",
    "    * **`get_package(package_id)`**: Retrieves a `Package` object by its ID. Return the `Package` object or `None` if not found.\n",
    "    * **`update_package_destination(package_id, new_destination_city_id)`**: Updates a package's destination. Ensure the `new_destination_city_id` corresponds to an existing city. Return `True` on success, `False` otherwise.\n",
    "    * **`delete_package(package_id)`**: Removes a `Package` object. **Important**: If the package is currently loaded in a container or on a truck, it must first be unloaded. Return `True` on successful deletion, `False` otherwise.\n",
    "\n",
    "    * **`add_container(container)`**: Adds a `Container` object to the `containers` dictionary. Ensure the ID is unique. Return `True` on success, `False` if ID already exists.\n",
    "    * **`get_container(container_id)`**: Retrieves a `Container` object by its ID. Return the `Container` object or `None` if not found.\n",
    "    * **`delete_container(container_id)`**: Removes a `Container` object. **Important**: If the container is currently loaded on a truck, it must first be unloaded. Return `True` on successful deletion, `False` otherwise.\n",
    "\n",
    "    * **`add_truck(truck)`**: Adds a `Truck` object to the `trucks` dictionary. Ensure the ID is unique. Return `True` on success, `False` if ID already exists.\n",
    "    * **`get_truck(truck_id)`**: Retrieves a `Truck` object by its ID. Return the `Truck` object or `None` if not found.\n",
    "    * **`delete_truck(truck_id)`**: Removes a `Truck` object. **Important**: If the truck has any loaded packages or containers, they must first be unloaded or the operation prevented. Return `True` on successful deletion, `False` otherwise.\n",
    "\n",
    "    * **`load_package_to_container(package_id, container_id)`**: Finds the package and container, then attempts to load the package into the container using the container's `add_package` method. Return `True` on success, `False` otherwise (due to incompatibility, weight/count limits, etc.).\n",
    "    * **`unload_package_from_container(package_id, container_id)`**: Finds the package and container, then attempts to unload the package from the container. Return `True` on success, `False` otherwise.\n",
    "\n",
    "    * **`load_item_to_truck(item_id, truck_id)`**: This method needs to handle both packages and containers. It should determine if `item_id` refers to a `Package` or `Container`, and then call the appropriate loading method on the `Truck` object (either `load_package` for `NormalTruck` or `load_container` for `ContainerTruck`). Return `True` on success, `False` otherwise.\n",
    "    * **`unload_item_from_truck(item_id, truck_id)`**: Similar to `load_item_to_truck`, this method should determine the item type and call the appropriate unloading method. Return `True` on success, `False` otherwise.\n",
    "\n",
    "    * **`find_packages_by_destination(city_id)`**: Returns a list of `Package` objects whose destination is the specified city. Return an empty list if none found.\n",
    "    * **`find_containers_with_fragile_packages()`**: Returns a list of `Container` objects that contain at least one `FragilePackage`. This method will need to iterate through containers and then through packages within those containers.\n",
    "    * **`get_trucks_carrying_container_type(container_type)`**: Returns a list of `Truck` objects that are currently carrying at least one container of the specified type (e.g., \"FreezerContainer\", \"FragileContainer\").\n",
    "\n",
    "    * **`get_all_packages_in_transit()`**: Returns a list of all packages that are currently loaded into any container or onto any truck.\n"
   ]
  },
  {
   "cell_type": "code",
   "execution_count": null,
   "metadata": {},
   "outputs": [],
   "source": [
    "# --- YOUR CODE FOR LOGISTICSMANAGER CLASS HERE ---\n"
   ]
  },
  {
   "cell_type": "markdown",
   "metadata": {},
   "source": [
    "---"
   ]
  },
  {
   "cell_type": "markdown",
   "metadata": {},
   "source": [
    "## Part 3: Demonstration of Logistics Manager Functionality\n",
    "\n",
    "In this section, you will instantiate the `LogisticsManager` and use its methods to demonstrate all the functionalities you've implemented. Print clear messages for each operation, indicating success or failure and why.\n"
   ]
  },
  {
   "cell_type": "markdown",
   "metadata": {},
   "source": [
    "### 1. Initialize Logistics Manager\n",
    "\n",
    "Create an instance of your `LogisticsManager`.\n"
   ]
  },
  {
   "cell_type": "code",
   "execution_count": null,
   "metadata": {},
   "outputs": [],
   "source": [
    "# --- YOUR CODE HERE ---\n"
   ]
  },
  {
   "cell_type": "markdown",
   "metadata": {},
   "source": [
    "### 2. Demonstrate City CRUD Operations\n",
    "\n",
    "* Add several `City` objects.\n",
    "* Attempt to add a city with a duplicate ID.\n",
    "* Retrieve a city by ID (both existing and non-existing).\n",
    "* Update a city's details.\n",
    "* Attempt to delete a city that has packages associated with it (should fail).\n",
    "* Delete a city that has no dependencies.\n"
   ]
  },
  {
   "cell_type": "code",
   "execution_count": null,
   "metadata": {},
   "outputs": [],
   "source": [
    "# --- YOUR CODE HERE ---\n"
   ]
  },
  {
   "cell_type": "markdown",
   "metadata": {},
   "source": [
    "### 3. Demonstrate Package CRUD Operations\n",
    "\n",
    "* Add various types of `Package` objects (Freezer, Fragile, Generic), ensuring their origin/destination cities exist in the manager.\n",
    "* Attempt to add a package with non-existent cities.\n",
    "* Retrieve a package by ID.\n",
    "* Update a package's destination.\n",
    "* Attempt to delete a package currently loaded in a container/truck (should fail initially, then succeed after unloading).\n"
   ]
  },
  {
   "cell_type": "code",
   "execution_count": null,
   "metadata": {},
   "outputs": [],
   "source": [
    "# --- YOUR CODE HERE ---\n"
   ]
  },
  {
   "cell_type": "markdown",
   "metadata": {},
   "source": [
    "### 4. Demonstrate Container CRUD Operations\n",
    "\n",
    "* Add various `Container` objects.\n",
    "* Attempt to add a container with a duplicate ID.\n",
    "* Retrieve a container by ID.\n",
    "* Attempt to delete a container currently loaded on a truck (should fail initially, then succeed after unloading).\n"
   ]
  },
  {
   "cell_type": "code",
   "execution_count": null,
   "metadata": {},
   "outputs": [],
   "source": [
    "# --- YOUR CODE HERE ---\n"
   ]
  },
  {
   "cell_type": "markdown",
   "metadata": {},
   "source": [
    "### 5. Demonstrate Truck CRUD Operations\n",
    "\n",
    "* Add `NormalTruck` and `ContainerTruck` objects.\n",
    "* Attempt to add a truck with a duplicate ID.\n",
    "* Retrieve a truck by ID.\n",
    "    * Attempt to delete a truck with loaded items (should fail).\n"
   ]
  },
  {
   "cell_type": "code",
   "execution_count": null,
   "metadata": {},
   "outputs": [],
   "source": [
    "# --- YOUR CODE HERE ---\n"
   ]
  },
  {
   "cell_type": "markdown",
   "metadata": {},
   "source": [
    "### 6. Demonstrate Package-to-Container Loading/Unloading Logic\n",
    "\n",
    "* Load appropriate packages into `FreezerContainer` and `FragileContainer`.\n",
    "* Attempt to load incompatible packages (wrong type, too heavy, too many, wrong temperature) into specialized containers and print the results.\n",
    "* Demonstrate `get_current_weight()` and `get_current_package_count()` for containers.\n",
    "* Unload packages from containers.\n",
    "* Attempt to unload a non-existent package.\n"
   ]
  },
  {
   "cell_type": "code",
   "execution_count": null,
   "metadata": {},
   "outputs": [],
   "source": [
    "# --- YOUR CODE HERE ---\n"
   ]
  },
  {
   "cell_type": "markdown",
   "metadata": {},
   "source": [
    "### 7. Demonstrate Item-to-Truck Loading/Unloading Logic\n",
    "\n",
    "* Load containers onto a `ContainerTruck`.\n",
    "* Load packages onto a `NormalTruck`.\n",
    "* Demonstrate attempts to overload trucks or load incorrect item types (e.g., loading a `Package` onto a `ContainerTruck` directly, or a `Container` onto a `NormalTruck`).\n",
    "* Demonstrate `get_current_payload_weight()` for trucks.\n",
    "* Unload items from trucks.\n"
   ]
  },
  {
   "cell_type": "code",
   "execution_count": null,
   "metadata": {},
   "outputs": [],
   "source": [
    "# --- YOUR CODE HERE ---\n"
   ]
  }
 ],
 "metadata": {
  "kernelspec": {
   "display_name": "Python 3",
   "language": "python",
   "name": "python3"
  },
  "language_info": {
   "codemirror_mode": {
    "name": "ipython",
    "version": 3
   },
   "file_extension": ".py",
   "mimetype": "text/x-python",
   "name": "python",
   "nbconvert_exporter": "python",
   "pygments_lexer": "ipython3",
   "version": "3.9.13"
  }
 },
 "nbformat": 4,
 "nbformat_minor": 4
}
